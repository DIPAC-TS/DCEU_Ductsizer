{
 "cells": [
  {
   "cell_type": "code",
   "execution_count": null,
   "metadata": {},
   "outputs": [],
   "source": [
    "from Fitting import Fitting\n",
    "import json"
   ]
  },
  {
   "cell_type": "code",
   "execution_count": null,
   "metadata": {},
   "outputs": [],
   "source": [
    "def create_fitting(json_file):\n",
    "    with open(json_file + \".json\") as file:\n",
    "        data_fitting = json.load(file)\n",
    "    return Fitting(data_fitting)"
   ]
  },
  {
   "cell_type": "code",
   "execution_count": null,
   "metadata": {},
   "outputs": [],
   "source": [
    "codo_rect = create_fitting(\"ASHRAE_CR3-1\")\n",
    "codo_circ = create_fitting(\"ASHRAE_CD3-1\")\n",
    "tran_rrsm = create_fitting(\"ASHRAE_SR4-1\")\n",
    "tran_rcsm = create_fitting(\"ASHRAE_SD4-2\")\n",
    "tran_crsm = create_fitting(\"ASHRAE_SR4-3\")\n",
    "tran_ccsm = create_fitting(\"ASHRAE_SD4-1\")\n",
    "tran_rrxt = create_fitting(\"ASHRAE_ER4-1\")\n",
    "tran_rcxt = create_fitting(\"ASHRAE_ER4-3\")\n",
    "tran_crxt = create_fitting(\"ASHRAE_ED4-2\")\n",
    "tran_ccxt = create_fitting(\"ASHRAE_ED4-1\")\n",
    "deri_sumr = create_fitting(\"ASHRAE_SR5-13\")\n",
    "deri_sumc = create_fitting(\"ASHRAE_SD5-9\")\n",
    "deri_extr = create_fitting(\"ASHRAE_ER5-3\")\n",
    "deri_exts = create_fitting(\"ASHRAE_ED5-3_up250\")\n",
    "deri_extc = create_fitting(\"ASHRAE_ED5-3 pl250\")"
   ]
  },
  {
   "cell_type": "markdown",
   "metadata": {},
   "source": [
    "# CODO RECTANGULAR (CR3-1)"
   ]
  },
  {
   "cell_type": "code",
   "execution_count": null,
   "metadata": {},
   "outputs": [],
   "source": [
    "# ENTRADAS\n",
    "W = 14 # Ancho del ducto\n",
    "H = 8 # Alto del ducto\n",
    "th = 90 # Ángulo"
   ]
  },
  {
   "cell_type": "code",
   "execution_count": null,
   "metadata": {},
   "outputs": [
    {
     "name": "stdout",
     "output_type": "stream",
     "text": [
      "th=90°,H/W=0.5714285714285714,r/W=1.0\n",
      "0.2442857142857143\n"
     ]
    }
   ],
   "source": [
    "mycondition={}\n",
    "mycondition[\"H_i\"] = H  # Alto del ducto\n",
    "mycondition[\"W_i\"] = W  # Ancho del ducto\n",
    "mycondition[\"r\"] = W   # r/W\n",
    "mycondition[\"th\"] = th  # Ángulo de la curva\n",
    "print(f\"th={th}°,H/W={H/W},r/W=1.0\")\n",
    "print(codo_rect.get_Loss(mycondition))"
   ]
  },
  {
   "cell_type": "markdown",
   "metadata": {},
   "source": [
    "# CODO CIRCULAR RECTO (90°) D/W = 1.5 (CD3-1)"
   ]
  },
  {
   "cell_type": "code",
   "execution_count": null,
   "metadata": {},
   "outputs": [],
   "source": [
    "# ENTRADAS\n",
    "D = 152 # Diámetro del ducto (mm)\n",
    "rD = 1.5 # Relación de radio\n",
    "th = 90 # Ángulo"
   ]
  },
  {
   "cell_type": "code",
   "execution_count": null,
   "metadata": {},
   "outputs": [],
   "source": [
    "mycondition={}\n",
    "mycondition[\"D_i\"] = D # Diámetro del ducto"
   ]
  },
  {
   "cell_type": "code",
   "execution_count": null,
   "metadata": {},
   "outputs": [
    {
     "name": "stdout",
     "output_type": "stream",
     "text": [
      "D_i=152.00 mm,r/D=1.50,th=90.00°\n",
      "0.1386666666666667\n"
     ]
    }
   ],
   "source": [
    "print(f\"D_i={D:.2f} mm,r/D={rD:.2f},th={th:.2f}°\")\n",
    "print(codo_circ.get_Loss(mycondition))"
   ]
  },
  {
   "cell_type": "markdown",
   "metadata": {},
   "source": [
    "# TRANSICIÓN RECTANGULAR A RECTANGULAR DE SUMINISTRO (SR4-1)"
   ]
  },
  {
   "cell_type": "code",
   "execution_count": null,
   "metadata": {},
   "outputs": [],
   "source": [
    "# ENTRADAS\n",
    "W_i = 14 # Ancho inicial\n",
    "H_i = 8 # Alto inicial\n",
    "W_o = 12 # Ancho final\n",
    "H_o = 6 # Alto final\n",
    "th = 60 # Ángulo"
   ]
  },
  {
   "cell_type": "code",
   "execution_count": null,
   "metadata": {},
   "outputs": [],
   "source": [
    "mycondition={}\n",
    "mycondition[\"A_i\"] = W_i # Ancho inicial\n",
    "mycondition[\"A_0\"] = W_o # Ancho final\n",
    "mycondition[\"th\"] = th   # Ángulo\n",
    "loss_w = tran_rrsm.get_Loss(mycondition)\n",
    "mycondition={}\n",
    "mycondition[\"A_i\"] = H_i # Ancho inicial\n",
    "mycondition[\"A_0\"] = H_o # Ancho final\n",
    "mycondition[\"th\"] = th   # Ángulo\n",
    "loss_h = tran_rrsm.get_Loss(mycondition)"
   ]
  },
  {
   "cell_type": "code",
   "execution_count": null,
   "metadata": {},
   "outputs": [
    {
     "name": "stdout",
     "output_type": "stream",
     "text": [
      "A_o/A_i=41.1,th=60.0°\n",
      "0.06\n"
     ]
    }
   ],
   "source": [
    "print(f\"A_o/A_i={W_o*H_o/W_i*H_i:.1f},th={th:.1f}°\")\n",
    "print(f\"{loss_w + loss_h:.2f}\")"
   ]
  },
  {
   "cell_type": "markdown",
   "metadata": {},
   "source": [
    "# TRANSICIÓN RECTANGULAR A CIRCULAR DE SUMINISTRO (SD4-2)"
   ]
  },
  {
   "cell_type": "code",
   "execution_count": null,
   "metadata": {},
   "outputs": [],
   "source": [
    "# ENTRADAS\n",
    "W_i = 300 # Ancho inicial\n",
    "H_i = 200 # Alto inicial\n",
    "D_o = 200 # Diámetro final\n",
    "th = 60 # Ángulo"
   ]
  },
  {
   "cell_type": "code",
   "execution_count": null,
   "metadata": {},
   "outputs": [
    {
     "name": "stdout",
     "output_type": "stream",
     "text": [
      "0.06669600000000002\n"
     ]
    }
   ],
   "source": [
    "mycondition={}\n",
    "mycondition[\"A_i\"] = W_i * H_i # Ancho inicial\n",
    "mycondition[\"A_0\"] = 3.1416 * D_o * D_o / 4 # Diámetro final\n",
    "mycondition[\"th\"] = th   # Ángulo\n",
    "print(tran_rcsm.get_Loss(mycondition))"
   ]
  },
  {
   "cell_type": "markdown",
   "metadata": {},
   "source": [
    "# TRANSICIÓN CIRCULAR A RECTANGULAR DE SUMINISTRO"
   ]
  },
  {
   "cell_type": "code",
   "execution_count": null,
   "metadata": {},
   "outputs": [],
   "source": [
    "# ENTRADAS\n",
    "D_i = 200 # Diámetro inicial\n",
    "W_o = 300 # Ancho final\n",
    "H_o = 200 # Alto final\n",
    "th = 60   # Ángulo"
   ]
  },
  {
   "cell_type": "code",
   "execution_count": null,
   "metadata": {},
   "outputs": [],
   "source": [
    "mycondition={}\n",
    "mycondition[\"A_i\"] = 3.1416 * D_i * D_i # Área inicial\n",
    "mycondition[\"A_0\"] = W_o * H_o # Área final\n",
    "mycondition[\"th\"] = 60   # Ángulo"
   ]
  },
  {
   "cell_type": "code",
   "execution_count": null,
   "metadata": {},
   "outputs": [
    {
     "name": "stdout",
     "output_type": "stream",
     "text": [
      "0.07\n"
     ]
    }
   ],
   "source": [
    "print(tran_crsm.get_Loss(mycondition))"
   ]
  },
  {
   "cell_type": "markdown",
   "metadata": {},
   "source": [
    "# TRANSICIÓN CIRCULAR A CIRCULAR DE SUMINISTRO (SD4-1)"
   ]
  },
  {
   "cell_type": "code",
   "execution_count": null,
   "metadata": {},
   "outputs": [],
   "source": [
    "# ENTRADAS\n",
    "D_i = 4 # Diámetro inicial\n",
    "D_o = 6 # Diámetro final\n",
    "th = 60   # Ángulo"
   ]
  },
  {
   "cell_type": "code",
   "execution_count": null,
   "metadata": {},
   "outputs": [],
   "source": [
    "mycondition={}\n",
    "mycondition[\"A_o\"] = D_i * D_i # Área inicial\n",
    "mycondition[\"A_1\"] = D_o * D_o # Área final\n",
    "mycondition[\"th\"] = th  # Ángulo"
   ]
  },
  {
   "cell_type": "code",
   "execution_count": null,
   "metadata": {},
   "outputs": [
    {
     "name": "stdout",
     "output_type": "stream",
     "text": [
      "A_0/A_1=0.44,th=60.0°\n",
      "0.06\n"
     ]
    }
   ],
   "source": [
    "print(f\"A_0/A_1={mycondition['A_o'] / mycondition['A_1']:.2f},th={th:.1f}°\")\n",
    "print(f\"{tran_ccsm.get_Loss(mycondition):.2f}\")"
   ]
  },
  {
   "cell_type": "markdown",
   "metadata": {},
   "source": [
    "# TRANSICIÓN RECTANGULAR A RECTANGULAR DE EXTRACCIÓN (ER4-1)"
   ]
  },
  {
   "cell_type": "code",
   "execution_count": null,
   "metadata": {},
   "outputs": [],
   "source": [
    "# ENTRADAS\n",
    "W_i = 8\n",
    "H_i = 6 # Ancho inicial\n",
    "W_o = 28 # Ancho final\n",
    "H_o = 8 # Alto final\n",
    "th = 60 # Ángulo"
   ]
  },
  {
   "cell_type": "code",
   "execution_count": null,
   "metadata": {},
   "outputs": [
    {
     "name": "stdout",
     "output_type": "stream",
     "text": [
      "A_1/A_0=4.7,th=60.0°\n",
      "0.9866666666666668\n"
     ]
    }
   ],
   "source": [
    "mycondition={}\n",
    "mycondition[\"A_0\"] = W_i # Área inicial\n",
    "mycondition[\"A_1\"] = W_o # Área final\n",
    "mycondition[\"th\"] = th # Ángulo\n",
    "fit_w = tran_rrxt.get_Loss(mycondition)\n",
    "mycondition[\"A_0\"] = H_i # Área inicial\n",
    "mycondition[\"A_1\"] = H_o # Área final\n",
    "mycondition[\"th\"] = th # Ángulo\n",
    "fit_h = tran_rrxt.get_Loss(mycondition)\n",
    "print(f\"A_1/A_0={W_o*H_o/W_i/H_i:.1f},th={th:.1f}°\")\n",
    "print(fit_w + fit_h)"
   ]
  },
  {
   "cell_type": "markdown",
   "metadata": {},
   "source": [
    "# TRANSICIÓN RECTANGULAR A CIRCULAR DE EXTRACCIÓN (ER4-3)"
   ]
  },
  {
   "cell_type": "code",
   "execution_count": null,
   "metadata": {},
   "outputs": [],
   "source": [
    "# ENTRADAS\n",
    "W_i = 6 # Ancho inicial\n",
    "H_i = 6 # Alto inicial\n",
    "D_o = 6 # Diámetro final\n",
    "th = 60 # Ángulo"
   ]
  },
  {
   "cell_type": "code",
   "execution_count": null,
   "metadata": {},
   "outputs": [],
   "source": [
    "mycondition={} \n",
    "mycondition[\"A_o\"] = W_i * H_i # Área inicial\n",
    "mycondition[\"A_i\"] = 3.1416 * D_o * D_o / 4 # Área final\n",
    "mycondition[\"th\"] = th # Ángulo"
   ]
  },
  {
   "cell_type": "code",
   "execution_count": null,
   "metadata": {},
   "outputs": [
    {
     "name": "stdout",
     "output_type": "stream",
     "text": [
      "A_0/A_1=1.27,th=60.0°\n",
      "0.141636\n"
     ]
    }
   ],
   "source": [
    "print(f\"A_0/A_1={mycondition['A_o'] / mycondition['A_i']:.2f},th={th:.1f}°\")\n",
    "print(tran_rcxt.get_Loss(mycondition))"
   ]
  },
  {
   "cell_type": "markdown",
   "metadata": {},
   "source": [
    "# TRANSICIÓN CIRCULAR A RECTANGULAR DE EXTRACCIÓN"
   ]
  },
  {
   "cell_type": "code",
   "execution_count": null,
   "metadata": {},
   "outputs": [],
   "source": [
    "# ENTRADAS\n",
    "D_i = 150 # Diámetro inicial\n",
    "W_o = 300 # Ancho final\n",
    "H_o = 200 # Alto final\n",
    "th = 60 # Ángulo"
   ]
  },
  {
   "cell_type": "code",
   "execution_count": null,
   "metadata": {},
   "outputs": [
    {
     "name": "stdout",
     "output_type": "stream",
     "text": [
      "0.8420719803072746\n"
     ]
    }
   ],
   "source": [
    "mycondition={}\n",
    "mycondition[\"A_o\"] = 3.1416 * D_i * D_i / 4 # Área inicial\n",
    "mycondition[\"A_i\"] = W_o * H_o # Área final\n",
    "mycondition[\"th\"] = th # Ángulo\n",
    "print(tran_crxt.get_Loss(mycondition))"
   ]
  },
  {
   "cell_type": "markdown",
   "metadata": {},
   "source": [
    "# TRANSICIÓN CIRCULAR A CIRCULAR DE EXTRACCIÓN (ED4-1)"
   ]
  },
  {
   "cell_type": "code",
   "execution_count": null,
   "metadata": {},
   "outputs": [],
   "source": [
    "# ENTRADAS\n",
    "D_i = 6 # Diámetro inicial\n",
    "D_o = 4 # Diámetro final\n",
    "th = 60 # Ángulo"
   ]
  },
  {
   "cell_type": "code",
   "execution_count": null,
   "metadata": {},
   "outputs": [],
   "source": [
    "mycondition = {}\n",
    "mycondition[\"A_o\"] = D_i * D_i / 4 # Área inicial\n",
    "mycondition[\"A_i\"] = D_o * D_o / 4 # Área final\n",
    "mycondition[\"th\"] = th # Ángulo"
   ]
  },
  {
   "cell_type": "code",
   "execution_count": null,
   "metadata": {},
   "outputs": [
    {
     "name": "stdout",
     "output_type": "stream",
     "text": [
      "A_0/A_1=2.25,th=60.0°\n",
      "0.41\n"
     ]
    }
   ],
   "source": [
    "print(f\"A_0/A_1={mycondition['A_o'] / mycondition['A_i']:.2f},th={th:.1f}°\")\n",
    "print(f\"{tran_ccxt.get_Loss(mycondition):.2f}\")"
   ]
  },
  {
   "cell_type": "markdown",
   "metadata": {},
   "source": [
    "# DERIVACIÓN RECTANGULAR DE SUMINISTRO (SR5-13)"
   ]
  },
  {
   "cell_type": "code",
   "execution_count": null,
   "metadata": {},
   "outputs": [],
   "source": [
    "# ENTRADAS\n",
    "W_i = 10 # Ancho inicial\n",
    "H_i = 6 # Alto inicial\n",
    "W_b = 6 # Ancho de la derivación\n",
    "H_b = 4 # Alto de la derivación\n",
    "W_o = 8 # Ancho final\n",
    "H_o = 6 # Alto final\n",
    "Q_i = 233 # Caudal inicial\n",
    "Q_b = 42 # Caudal de la derivación "
   ]
  },
  {
   "cell_type": "code",
   "execution_count": null,
   "metadata": {},
   "outputs": [],
   "source": [
    "mycondition={}\n",
    "mycondition[\"A_i\"] = W_i * H_i # Área inicial\n",
    "mycondition[\"A_o\"] = W_o * H_o # Área final\n",
    "mycondition[\"A_1\"] = W_b * H_b # Área de la derivación\n",
    "mycondition[\"Q_i\"] = Q_i # Caudal de entrada\n",
    "mycondition[\"Q_o\"] = Q_i - Q_b # Caudal de salida\n",
    "mycondition[\"Q_1\"] = Q_b # Caudal de la derivación"
   ]
  },
  {
   "cell_type": "code",
   "execution_count": null,
   "metadata": {},
   "outputs": [
    {
     "name": "stdout",
     "output_type": "stream",
     "text": [
      "main: A_s/A_c=0.8,Q_s/Q_c=0.8\n",
      "branch: A_b/A_c=0.4,Q_b/Q_c=0.2\n",
      "(0.03605150214592275, 3.190815450643777)\n"
     ]
    }
   ],
   "source": [
    "print(f\"main: A_s/A_c={W_o*H_o/(W_i*H_i):.1f},Q_s/Q_c={(Q_i - Q_b)/Q_i:.1f}\")\n",
    "print(f\"branch: A_b/A_c={W_b*H_b/(W_i*H_i):.1f},Q_b/Q_c={Q_b/Q_i:.1f}\")\n",
    "print(deri_sumr.get_Loss(mycondition))"
   ]
  },
  {
   "cell_type": "markdown",
   "metadata": {},
   "source": [
    "# DERIVACIÓN CIRCULAR DE SUMINISTRO"
   ]
  },
  {
   "cell_type": "code",
   "execution_count": null,
   "metadata": {},
   "outputs": [],
   "source": [
    "# ENTRADAS\n",
    "D_i = 400 # Diámetro inicial\n",
    "D_o = 300 # Diámetro final\n",
    "D_b = 200 # Diámetro de la derivación\n",
    "Q_i = 3000 # Caudal inicial\n",
    "Q_b = 400 # Caudal de la derivación"
   ]
  },
  {
   "cell_type": "code",
   "execution_count": null,
   "metadata": {},
   "outputs": [
    {
     "name": "stdout",
     "output_type": "stream",
     "text": [
      "(0.71125, 0.41166666666666674)\n"
     ]
    }
   ],
   "source": [
    "mycondition={}\n",
    "mycondition[\"A_i\"] = D_i * D_i # Área inicial\n",
    "mycondition[\"A_o\"] = D_o * D_o # Área final\n",
    "mycondition[\"A_1\"] = D_b * D_b # Área de la derivación\n",
    "mycondition[\"Q_i\"] = Q_i # Caudal de salida\n",
    "mycondition[\"Q_o\"] = Q_i - Q_b # Caudal de salida\n",
    "mycondition[\"Q_1\"] = Q_b # Caudal de la derivación\n",
    "print(deri_sumc.get_Loss(mycondition))"
   ]
  },
  {
   "cell_type": "markdown",
   "metadata": {},
   "source": [
    "# DERIVACIÓN RECTANGULAR DE EXTRACCIÓN (ER5-3)"
   ]
  },
  {
   "cell_type": "code",
   "execution_count": null,
   "metadata": {},
   "outputs": [],
   "source": [
    "# ENTRADAS\n",
    "Q_i = 900 # Caudal inicial\n",
    "Q_b = 300 # Caudal final"
   ]
  },
  {
   "cell_type": "code",
   "execution_count": null,
   "metadata": {},
   "outputs": [],
   "source": [
    "mycondition={}\n",
    "mycondition[\"Q_i\"] = Q_i\n",
    "mycondition[\"Q_o\"] = Q_i + Q_b\n",
    "mycondition[\"Q_1\"] = Q_b"
   ]
  },
  {
   "cell_type": "code",
   "execution_count": null,
   "metadata": {},
   "outputs": [
    {
     "name": "stdout",
     "output_type": "stream",
     "text": [
      "main: Q_s/Q_c=0.8\n",
      "branch: Q_b/Q_c=0.2\n",
      "(0.5700000000000001, -2.245)\n"
     ]
    }
   ],
   "source": [
    "print(f\"main: Q_s/Q_c={Q_i/(Q_i+Q_b):.1f}\")\n",
    "print(f\"branch: Q_b/Q_c={Q_b/(Q_i+Q_b):.1f}\")\n",
    "print(deri_extr.get_Loss(mycondition))"
   ]
  },
  {
   "cell_type": "markdown",
   "metadata": {},
   "source": [
    "# DERIVACIÓN CIRCULAR DE EXTRACCIÓN"
   ]
  },
  {
   "cell_type": "code",
   "execution_count": null,
   "metadata": {},
   "outputs": [],
   "source": [
    "# ENTRADAS\n",
    "D_i = 200\n",
    "D_o = 250\n",
    "D_b = 100\n",
    "Q_i = 300\n",
    "Q_b = 100"
   ]
  },
  {
   "cell_type": "code",
   "execution_count": null,
   "metadata": {},
   "outputs": [
    {
     "name": "stdout",
     "output_type": "stream",
     "text": [
      "(0.25960000000000005, 12.086199999999998)\n"
     ]
    }
   ],
   "source": [
    "mycondition={}\n",
    "mycondition[\"A_i\"] = D_i * D_i\n",
    "mycondition[\"A_o\"] = D_o * D_o\n",
    "mycondition[\"A_1\"] = D_b * D_b\n",
    "mycondition[\"Q_i\"] = Q_i\n",
    "mycondition[\"Q_o\"] = Q_i + Q_b\n",
    "mycondition[\"Q_1\"] = Q_b\n",
    "if D_o <= 250:\n",
    "    print(deri_exts.get_Loss(mycondition))\n",
    "else:\n",
    "    print(deri_extc.get_Loss(mycondition))"
   ]
  },
  {
   "cell_type": "markdown",
   "metadata": {},
   "source": [
    "# OTROS ELEMENTOS"
   ]
  },
  {
   "cell_type": "markdown",
   "metadata": {},
   "source": [
    "## TERMINALES DE AIRE"
   ]
  },
  {
   "cell_type": "code",
   "execution_count": null,
   "metadata": {},
   "outputs": [],
   "source": [
    "SD4V = 0.66\n",
    "RGHL = -0.52\n",
    "OADG = 0.80\n",
    "OAIG = -1.20\n",
    "SGHL = 0.57\n",
    "SGHV = 1.76"
   ]
  },
  {
   "cell_type": "markdown",
   "metadata": {},
   "source": [
    "# FILTROS"
   ]
  },
  {
   "cell_type": "code",
   "execution_count": null,
   "metadata": {},
   "outputs": [],
   "source": [
    "MERV8_1in = 5.12\n",
    "MERV8_2in = 6.40\n",
    "MERV8_4in = 7.68"
   ]
  },
  {
   "cell_type": "code",
   "execution_count": null,
   "metadata": {},
   "outputs": [],
   "source": [
    "myfit = create_fitting(\"ASHRAE_SR5-11\")"
   ]
  },
  {
   "cell_type": "code",
   "execution_count": null,
   "metadata": {},
   "outputs": [
    {
     "name": "stdout",
     "output_type": "stream",
     "text": [
      "None\n",
      "Q_o/Q_i\n",
      "A_o/A_i\n",
      "None\n",
      "Q_1/Q_i\n",
      "A_1/A_i\n",
      "None\n",
      "None\n",
      "None\n",
      "None\n"
     ]
    }
   ],
   "source": [
    "# REVISAR PARÁMETROS REQUERIDOS\n",
    "print(myfit.rel_k)\n",
    "print(myfit.rel_xo)\n",
    "print(myfit.rel_yo)\n",
    "print(myfit.rel_zo)\n",
    "print(myfit.rel_x1)\n",
    "print(myfit.rel_y1)\n",
    "print(myfit.rel_z1)\n",
    "print(myfit.rel_x2)\n",
    "print(myfit.rel_y2)\n",
    "print(myfit.rel_z2)"
   ]
  },
  {
   "cell_type": "code",
   "execution_count": null,
   "metadata": {},
   "outputs": [],
   "source": [
    "# ENTRADAS\n",
    "W_i = 18\n",
    "H_i = 8\n",
    "Q_i = 878\n",
    "D_b = 3 # Diámetro de la derivación\n",
    "Q_b = 45\n",
    "W_o = 18\n",
    "H_o = 8\n",
    "\n",
    "mycondition = {}\n",
    "mycondition[\"A_i\"] = W_i * H_i\n",
    "mycondition[\"Q_i\"] = Q_i\n",
    "mycondition[\"A_o\"] = W_o * H_o\n",
    "mycondition[\"Q_o\"] = Q_i - Q_b\n",
    "mycondition[\"A_1\"] = 3.1416 * D_b * D_b / 4.\n",
    "mycondition[\"Q_1\"] = Q_b"
   ]
  },
  {
   "cell_type": "code",
   "execution_count": null,
   "metadata": {},
   "outputs": [
    {
     "data": {
      "text/plain": [
       "(0.04050113895216402, 0.0666700740318904)"
      ]
     },
     "execution_count": 60,
     "metadata": {},
     "output_type": "execute_result"
    }
   ],
   "source": [
    "myfit.get_Loss(mycondition)"
   ]
  },
  {
   "cell_type": "code",
   "execution_count": null,
   "metadata": {},
   "outputs": [
    {
     "data": {
      "text/plain": [
       "0.94874715261959"
      ]
     },
     "execution_count": 66,
     "metadata": {},
     "output_type": "execute_result"
    }
   ],
   "source": [
    "mycondition[\"Q_o\"] / mycondition[\"Q_i\"]"
   ]
  },
  {
   "cell_type": "code",
   "execution_count": null,
   "metadata": {},
   "outputs": [
    {
     "data": {
      "text/plain": [
       "144"
      ]
     },
     "execution_count": 58,
     "metadata": {},
     "output_type": "execute_result"
    }
   ],
   "source": [
    "mycondition[\"A_i\"]"
   ]
  },
  {
   "cell_type": "code",
   "execution_count": null,
   "metadata": {},
   "outputs": [],
   "source": []
  }
 ],
 "metadata": {
  "kernelspec": {
   "display_name": ".dceuve",
   "language": "python",
   "name": "python3"
  },
  "language_info": {
   "codemirror_mode": {
    "name": "ipython",
    "version": 3
   },
   "file_extension": ".py",
   "mimetype": "text/x-python",
   "name": "python",
   "nbconvert_exporter": "python",
   "pygments_lexer": "ipython3",
   "version": "3.12.10"
  }
 },
 "nbformat": 4,
 "nbformat_minor": 4
}
