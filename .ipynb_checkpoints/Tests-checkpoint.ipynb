{
 "cells": [
  {
   "cell_type": "code",
   "execution_count": 134,
   "metadata": {},
   "outputs": [],
   "source": [
    "from Fitting import Fitting\n",
    "import json"
   ]
  },
  {
   "cell_type": "code",
   "execution_count": 135,
   "metadata": {},
   "outputs": [],
   "source": [
    "with open(\"ASHRAE_CR3-1.json\") as file:\n",
    "    elbow = json.load(file)"
   ]
  },
  {
   "cell_type": "code",
   "execution_count": 136,
   "metadata": {},
   "outputs": [],
   "source": [
    "fit1 = Fitting(elbow)"
   ]
  },
  {
   "cell_type": "code",
   "execution_count": 137,
   "metadata": {},
   "outputs": [
    {
     "data": {
      "text/plain": [
       "'ELBOW'"
      ]
     },
     "execution_count": 137,
     "metadata": {},
     "output_type": "execute_result"
    }
   ],
   "source": [
    "fit1.fittype"
   ]
  },
  {
   "cell_type": "code",
   "execution_count": 138,
   "metadata": {},
   "outputs": [],
   "source": [
    "mycondition={}\n",
    "mycondition[\"H_i\"] = 200\n",
    "mycondition[\"W_i\"] = 200\n",
    "mycondition[\"r\"] = 200\n",
    "mycondition[\"th\"] = 45"
   ]
  },
  {
   "cell_type": "code",
   "execution_count": 140,
   "metadata": {},
   "outputs": [
    {
     "name": "stdout",
     "output_type": "stream",
     "text": [
      "0.126\n"
     ]
    }
   ],
   "source": [
    "print(fit1.get_Loss(mycondition))"
   ]
  },
  {
   "cell_type": "code",
   "execution_count": 24,
   "metadata": {},
   "outputs": [],
   "source": [
    "from enum import Enum\n",
    "from enum import auto\n",
    "from Fitting import Fitting\n",
    "import math"
   ]
  },
  {
   "cell_type": "code",
   "execution_count": 157,
   "metadata": {},
   "outputs": [],
   "source": [
    "class Duct(object):\n",
    "    \n",
    "    class REF(Enum):\n",
    "        FLOW = auto()\n",
    "        SIZE = auto()\n",
    "        LOSS = auto()\n",
    "        VELOCITY = auto()\n",
    "    \n",
    "    FLOW = REF.FLOW\n",
    "    SIZE = REF.SIZE\n",
    "    LOSS = REF.LOSS\n",
    "    VELOCITY = REF.VELOCITY\n",
    "    \n",
    "    class DuctType(Enum):\n",
    "        RECTANGULAR = auto()\n",
    "        ROUND = auto()\n",
    "        OVAL = auto()\n",
    "        \n",
    "    def __init__(self, dtype:DuctType=DuctType.ROUND,\n",
    "                 diam:float=300.,\n",
    "                 size:list=[300., 300.],\n",
    "                 length:float=1.22,\n",
    "                 flow:float=100.,\n",
    "                 e:float=0.09):\n",
    "        self.name = \"duct\"\n",
    "        self.__fittings = []\n",
    "        self.dtype = dtype\n",
    "        try:\n",
    "            if (len(size) == 2):\n",
    "                self.size = size\n",
    "            else:\n",
    "                self.size = [300, 300]\n",
    "        except TypeError as e:\n",
    "            self.size = [diam, 0.]  \n",
    "        self.__flow = flow\n",
    "        self.roughness = e\n",
    "        \n",
    "    @property\n",
    "    def name(self):\n",
    "        return self.__name\n",
    "    \n",
    "    @name.setter\n",
    "    def name(self, value):\n",
    "        self.__name = value\n",
    "    \n",
    "    def add_fitting(self, fitt:Fitting, cond:dict):\n",
    "        self.__fittings.append((fitt, cond))\n",
    "    \n",
    "    def remove_fitting(self, i:int):\n",
    "        del(self.__fittings[i])\n",
    "    \n",
    "    def clear_fittings(self, i:int):\n",
    "        self.__fittings = []\n",
    "    \n",
    "    def is_width_fixed(self):\n",
    "        return self.__is_fixed\n",
    "    \n",
    "    def fix_width(self, yn:bool = True):\n",
    "        self.__is_fixed = yn\n",
    "    \n",
    "    def __gwi(self) -> int:\n",
    "        if is_width_fixed():\n",
    "            return 1\n",
    "        else:\n",
    "            return 0\n",
    "    \n",
    "    @property\n",
    "    def dtype(self):\n",
    "        return self.__dtype\n",
    "    \n",
    "    @dtype.setter\n",
    "    def dtype(self, value):\n",
    "        try:\n",
    "            self.__dtype = value\n",
    "        except:\n",
    "            print(\"Bandera\")\n",
    "            self.__dtype = value\n",
    "    @property\n",
    "    def flow(self):\n",
    "        return self.__flow\n",
    "    \n",
    "    @flow.setter\n",
    "    def flow(self, flow:float, ref:REF):\n",
    "        if (flow < 0 or flow == self.__flow):\n",
    "            return\n",
    "        if (ref == LOSS):\n",
    "            refval = self.loss_rate\n",
    "            self.flow(flow, REF.SIZE)\n",
    "            e = 1.0\n",
    "            count = 0\n",
    "            rate = 100.\n",
    "            index = self.__gwi()\n",
    "            while (e > 0.0001 or count < 1000):\n",
    "                if (refval < self.loss_rate):\n",
    "                    self.__size[index] += rate\n",
    "                    if (refval > self.loss_rate):\n",
    "                        self.__size[index] -= rate\n",
    "                        rate /= 10.\n",
    "                elif (refval > self.loss_rate):\n",
    "                    self.__size[index] -= rate\n",
    "                    if (refval < self.loss_rate or self.__size[index] < 0.):\n",
    "                        a_size[index] += rate;\n",
    "                        rate /= 10.\n",
    "                count += 1\n",
    "                if count == 999:\n",
    "                    print(\"Stopped by counter\")\n",
    "                e = abs(self.loss_rate - refval)\n",
    "        elif (ref == VELOCITY):\n",
    "            refval = self.fluid_velocity\n",
    "            self.flow(flow, REF.SIZE)\n",
    "            e = 1.0\n",
    "            count = 0\n",
    "            rate = 100.\n",
    "            index = self.__gwi()\n",
    "            while (e > 0.0001 or count < 1000):\n",
    "                if (refval < self.fluid_velocity):\n",
    "                    self.__size[index] += rate\n",
    "                    if (refval > self.fluid_velocity()):\n",
    "                        self.__size[index] -= rate\n",
    "                        rate /= 10.\n",
    "                elif (refval > self.fluid_velocity):\n",
    "                    self.__size[index] -= rate\n",
    "                    if (refval < self.fluid_velocity() or self.__size[index] < 0.):\n",
    "                        a_size[index] += rate\n",
    "                        rate /= 10.\n",
    "                count += 1\n",
    "                if count == 999:\n",
    "                    print(\"Stopped by counter\")\n",
    "                e = abs(self.loss_rate - refval)\n",
    "        else: ## ref == SIZE or ref == FLOW:\n",
    "            self.__flow = flow\n",
    "    \n",
    "    @property\n",
    "    def size(self):\n",
    "        return self.__size\n",
    "    \n",
    "    @size.setter\n",
    "    def size(self, value):\n",
    "        if (len(value) == 2 and value[0] > 0. and value[1] > 0):\n",
    "            self.__size = value\n",
    "    \n",
    "    def set_size(self, size:list = [], diam:float = 0, dtype:DuctType = DuctType.ROUND):\n",
    "        if (dtype == DuctType.RECTANGULAR):\n",
    "            pass\n",
    "            ## Pending to define\n",
    "        elif (dtype == DuctType.ROUND):\n",
    "            if diam > 0:\n",
    "                setDe(diam)\n",
    "            ## Pending to define\n",
    "        else: ## dtype == OVAL\n",
    "            pass\n",
    "            ## Pending to define\n",
    "    \n",
    "    @property\n",
    "    def roughness(self):\n",
    "        return self.__roughness\n",
    "    \n",
    "    @roughness.setter\n",
    "    def roughness(self, value):\n",
    "        if (value > 0.):\n",
    "            self.__roughness = value\n",
    "    \n",
    "    def get_area(self):\n",
    "        if (self.__dtype == self.DuctType.RECTANGULAR):\n",
    "            return self.__size[0] * self.__size[1] / 1.0e6\n",
    "        elif (self.__dtype == self.DuctType.ROUND):\n",
    "            return math.pi * self.__size[0] * self.__size[0] / 4.0e6\n",
    "        else: ## self.__dtype == OVAL\n",
    "            return math.pi * self.__size[1] * self.__size[1] / 4.0e6\\\n",
    "              + self.__size[1] * (self.size[0] - self.size[1]) / 1.0e6\n",
    "    \n",
    "    def get_fluid_area(self):\n",
    "        return math.pi * self.get_De() ** 2.0 / 4.0e6\n",
    "    \n",
    "    def get_perim(self):\n",
    "        if (self.__dtype == self.DuctType.RECTANGULAR):\n",
    "            return 2.0 * (self.__size[0] + self.__size[1])\n",
    "        elif (self.__dtype == self.DuctType.ROUND):\n",
    "            return math.pi * self.__size[0]\n",
    "        else: ## self.__dtype == OVAL\n",
    "            return math.pi * self.__size[1] + 2 * (self.size[0] - self.size[1])\n",
    "    \n",
    "    def get_hid_diam(self):\n",
    "        if (self.dtype == self.DuctType.ROUND):\n",
    "            return self.__size[0]\n",
    "        else:\n",
    "            return 4.0e6 * self.get_area() / self.get_perim()\n",
    "        \n",
    "    def get_De(self):\n",
    "        if (self.dtype == self.DuctType.RECTANGULAR):\n",
    "            return 1.3 * math.pow(self.__size[0] * self.__size[1], 0.625)\\\n",
    "              / math.pow(self.__size[0] + self.__size[1], 0.25)\n",
    "        elif (self.dtype == self.DuctType.ROUND):\n",
    "            return self.__size[0]\n",
    "        else: ## self.__dtype == self.DuctType.OVAL\n",
    "            return 1.55 * Math.pow(get_area(), 0.625) / Math.pow(get_perim(), 0.25)\n",
    "    \n",
    "    def set_De(self, d:float, ref:REF):\n",
    "        if (d < 0.):\n",
    "            return\n",
    "        if (ref == self.REF.FLOW):\n",
    "            pass\n",
    "            ##Pending to define\n",
    "        elif (ref == self.REF.LOSS):\n",
    "            pass\n",
    "            ##Pending to define\n",
    "        elif (ref == self.REF.VELOCITY):\n",
    "            pass\n",
    "            ##Pending to define\n",
    "        else: ## ref == self.REF.SIZE\n",
    "            pass\n",
    "        \n",
    "    def get_velocity(self):\n",
    "        return self.__flow / self.get_area() / 1000.\n",
    "    \n",
    "    def get_fluid_vel(self):\n",
    "        return self.__flow / self.get_fluid_area() / 1000.\n",
    "    \n",
    "    def set_fluid_vel(self, vel:float, ref:REF):\n",
    "        if (v < 0.):\n",
    "            return\n",
    "        if (ref == self.DuctType.FLOW):\n",
    "            pass\n",
    "            ## Pending to define\n",
    "        elif (ref == self.DuctType.LOSS):\n",
    "            pass\n",
    "            ## Pending to define\n",
    "        elif (ref == self.DuctType.SIZE):\n",
    "            pass\n",
    "            ## Pending to define\n",
    "        else: ## ref == self.DuctType.VELOCITY\n",
    "            pass\n",
    "        \n",
    "    def get_vel_pressure(self):\n",
    "        return 0.602 * self.get_fluid_vel() ** 2.\n",
    "    \n",
    "    def get_ffactor(self):\n",
    "        f = self.roughness / self.get_hid_diam()\n",
    "        e = 10.\n",
    "        count = 999\n",
    "        while (e > 0.0001 or count < 999):\n",
    "            f = self.FColebrook(f)\n",
    "            e = abs(f - self.FColebrook(f))\n",
    "            count += 1\n",
    "            if (count == 999):\n",
    "                print(\"Finished by count\")\n",
    "        return f\n",
    "    def set_loss_rate(self, loss:float, ref:REF):\n",
    "        if (loss < 0.0 or loss == self.get_loss()):\n",
    "            return\n",
    "        rate = 100.\n",
    "        e = 100.\n",
    "        count = 0\n",
    "        if (ref == self.REF.FLOW):\n",
    "            while (e > 0.00001 or count < 999):\n",
    "                if (loss < self.get_loss()):\n",
    "                    self.set_De(self.get_De() + rate)\n",
    "                    if (loss > self.get_loss()):\n",
    "                        self.set_De(self.get_De() - rate)\n",
    "                        rate /= 10.;\n",
    "                else:\n",
    "                    self.set_De(get_De() - rate)\n",
    "                    if (loss < self.get_loss() or get_De() - rate < 0.):\n",
    "                        rate /= 10.\n",
    "                count += 1\n",
    "                if (count == 999):\n",
    "                    print(\"Stopped by counter\")\n",
    "                e = abs(loss - self.get_loss())\n",
    "        elif (ref == self.REF.VELOCITY):\n",
    "            pass\n",
    "            # Pending to define\n",
    "        elif (rel == self.REF.SIZE):\n",
    "            while (e > 0.00001):\n",
    "                if (loss > get_loss()):\n",
    "                    self.set_flow(self.get_flow() + rate, self.REF.SIZE)\n",
    "                    if (loss < self.get_loss()):\n",
    "                        self.set_flow(self.get_flow() + rate, self.REF.SIZE)\n",
    "                elif (loss < self.get_loss()):\n",
    "                    self.set_flow(self.get_flow() - rate, self.REF.SIZE)\n",
    "                    if (loss > self.get_loss() or self.get_flow() - rate < 0.):\n",
    "                        self.set_flow(self.get_flow() + rate, self.REF.SIZE)\n",
    "        else:  # rel == self.REF.LOSS\n",
    "            return\n",
    "        \n",
    "    def get_loss_rate(self):\n",
    "        return 1000. * self.get_ffactor() / self.get_De() * self.get_vel_pressure()\n",
    "    \n",
    "    def get_loss(self, length, output_type:int = 0):\n",
    "        if (output_type > 2):\n",
    "            output_type = 0\n",
    "        Fitloss = 0.0\n",
    "        for i in range(len(self.__fittings)):\n",
    "            if (self.__fittings[i][0].fittype == \"UNCLASSIFIED\" or \\\n",
    "              self.__fittings[i][0].fittype == \"TEE\" or \\\n",
    "              self.__fittings[i][0].fittype == \"WYE\"):\n",
    "                Fitloss += self.__fittings[i][0].get_Loss(self.__fittings[i][1])[output_type]\n",
    "            else:\n",
    "                Fitloss += self.__fittings[i][0].get_Loss(self.__fittings[i][1])\n",
    "        return self.get_loss_rate() * length + Fitloss * self.get_vel_pressure()\n",
    "    \n",
    "    def get_Reynolds(self):\n",
    "        return 66.4 * self.get_hid_diam() * self.get_velocity()\n",
    "    \n",
    "    def FColebrook(self, f:float):\n",
    "        return 1. / math.pow(-2.0 * math.log10(self.roughness / 3.7 / self.get_hid_diam()\\\n",
    "          + 2.51 / self.get_Reynolds() / math.sqrt(f)), 2.0)\n",
    "    \n",
    "    def __str__(self):\n",
    "        result = \"\"\n",
    "        result += \"Flow (L/s):        {:2f}\".format(self.flow) + '\\n'\n",
    "        if (self.dtype == self.DuctType.ROUND):\n",
    "            result += \"Diámetro (mm):     {:2f}\".format(self.size[0]) + '\\n'\n",
    "        else:\n",
    "            result += \"Ancho (mm):        {:2f}\".format(self.size[0]) + '\\n'\n",
    "            result += \"Alto (mm):         {:2f}\".format(self.size[1]) + '\\n'\n",
    "        result += \"Eq. Diam. (mm):    {:2f}\".format(self.get_De()) + '\\n'\n",
    "        result += \"Hid. Diam (mm):    {:2f}\".format(self.get_hid_diam()) + '\\n'\n",
    "        result += \"Flow Area (m2):    {:2f}\".format(self.get_fluid_area()) + '\\n'\n",
    "        result += \"Fluid Vel. (m/s):  {:2f}\".format(self.get_fluid_vel()) + '\\n'\n",
    "        result += \"Reynolds (-):      {:2f}\".format(self.get_Reynolds()) + '\\n'\n",
    "        result += \"Friction fac. (-): {:2f}\".format(self.get_ffactor()) + '\\n'\n",
    "        result += \"Vel. Press. (Pa):  {:2f}\".format(self.get_vel_pressure()) + '\\n'\n",
    "        result += \"Head loss (Pa/m):  {:2f}\".format(self.get_loss_rate())\n",
    "        return result"
   ]
  },
  {
   "cell_type": "code",
   "execution_count": 158,
   "metadata": {},
   "outputs": [],
   "source": [
    "duct1 = Duct(dtype=Duct.DuctType.RECTANGULAR)"
   ]
  },
  {
   "cell_type": "code",
   "execution_count": 159,
   "metadata": {},
   "outputs": [
    {
     "name": "stdout",
     "output_type": "stream",
     "text": [
      "Flow (L/s):        100.000000\n",
      "Ancho (mm):        300.000000\n",
      "Alto (mm):         300.000000\n",
      "Eq. Diam. (mm):    327.949602\n",
      "Hid. Diam (mm):    300.000000\n",
      "Flow Area (m2):    0.084470\n",
      "Fluid Vel. (m/s):  1.183848\n",
      "Reynolds (-):      22133.333333\n",
      "Friction fac. (-): 0.025897\n",
      "Vel. Press. (Pa):  0.843700\n",
      "Head loss (Pa/m):  0.066623\n"
     ]
    }
   ],
   "source": [
    "print(duct1)"
   ]
  },
  {
   "cell_type": "code",
   "execution_count": 160,
   "metadata": {},
   "outputs": [],
   "source": [
    "duct1.add_fitting(fit1, mycondition)"
   ]
  },
  {
   "cell_type": "code",
   "execution_count": 161,
   "metadata": {},
   "outputs": [
    {
     "name": "stdout",
     "output_type": "stream",
     "text": [
      "Pérdida total (Pa): 0.187586\n"
     ]
    }
   ],
   "source": [
    "print(\"Pérdida total (Pa): {:2f}\".format(duct1.get_loss(length=1.22, output_type=0)))"
   ]
  },
  {
   "cell_type": "code",
   "execution_count": 164,
   "metadata": {},
   "outputs": [],
   "source": [
    "with open(\"ASHRAE_SR5-11.json\") as file:\n",
    "    wye = json.load(file)"
   ]
  },
  {
   "cell_type": "code",
   "execution_count": 165,
   "metadata": {},
   "outputs": [],
   "source": [
    "fit2 = Fitting(wye)"
   ]
  },
  {
   "cell_type": "code",
   "execution_count": 166,
   "metadata": {},
   "outputs": [
    {
     "name": "stdout",
     "output_type": "stream",
     "text": [
      "ASHRAE SR5-11\n"
     ]
    }
   ],
   "source": [
    "print(fit2)"
   ]
  },
  {
   "cell_type": "code",
   "execution_count": 167,
   "metadata": {},
   "outputs": [
    {
     "name": "stdout",
     "output_type": "stream",
     "text": [
      "{'name': 'ASHRAE SR5-11', 'type': 'Tee', 'system': 'Suppy', 'description': 'Rectangular Main to Round Tap, Diverging', 'rel_xo': 'Q_o/Q_i', 'x_o': [0.1, 0.2, 0.3, 0.4, 0.5, 0.6, 0.7, 0.8, 0.9], 'rel_yo': 'A_o/A_i', 'y_o': [0.1, 0.2, 0.3, 0.4, 0.5, 0.6, 0.7, 0.8, 0.9], 'rel_x1': 'Q_1/Q_i', 'x_1': [0.1, 0.2, 0.3, 0.4, 0.5, 0.6, 0.7, 0.8, 0.9], 'rel_y1': 'A_1/A_i', 'y_1': [0.1, 0.2, 0.3, 0.4, 0.5, 0.6, 0.7, 0.8, 0.9], 'data_o': [[0.04, 0.01, 0.0, 0.0, 0.0, 0.0, 0.0, 0.0, 0.0], [0.98, 0.04, 0.01, 0.0, 0.0, 0.0, 0.0, 0.0, 0.0], [3.48, 0.31, 0.04, 0.01, 0.0, 0.0, 0.0, 0.0, 0.0], [7.55, 0.98, 0.18, 0.04, 0.02, 0.0, 0.0, 0.0, 0.0], [13.18, 2.03, 0.49, 0.13, 0.04, 0.0, 0.01, 0.0, 0.0], [20.38, 3.48, 0.98, 0.31, 0.1, 0.04, 0.02, 0.01, 0.0], [29.15, 5.32, 1.64, 0.6, 0.23, 0.09, 0.04, 0.02, 0.01], [39.48, 7.55, 2.47, 0.98, 0.42, 0.18, 0.08, 0.04, 0.02], [51.37, 10.17, 3.48, 1.46, 0.67, 0.31, 0.15, 0.07, 0.04]], 'data_1': [[1.58, 0.94, 0.83, 0.79, 0.77, 0.76, 0.76, 0.76, 0.75], [4.2, 1.58, 1.1, 0.94, 0.87, 0.83, 0.8, 0.79, 0.78], [8.63, 2.67, 1.58, 1.2, 1.03, 0.91, 0.88, 0.85, 0.83], [14.85, 4.2, 2.25, 1.58, 1.27, 1.1, 1.0, 0.94, 0.9], [22.87, 6.19, 3.13, 2.07, 1.58, 1.32, 1.16, 1.06, 0.99], [32.68, 8.63, 4.2, 2.67, 1.96, 1.58, 1.35, 1.2, 1.1], [44.3, 11.51, 5.48, 3.38, 2.41, 1.89, 1.58, 1.38, 1.24], [57.71, 14.85, 6.95, 4.2, 2.94, 2.25, 1.84, 1.58, 1.4], [72.92, 18.63, 8.63, 5.14, 3.53, 2.67, 2.14, 1.81, 1.58]]}\n"
     ]
    }
   ],
   "source": [
    "print(wye)"
   ]
  },
  {
   "cell_type": "code",
   "execution_count": 168,
   "metadata": {},
   "outputs": [],
   "source": [
    "cond2={}\n",
    "cond2[\"A_i\"] = 200\n",
    "cond2[\"A_o\"] = 200\n",
    "cond2[\"A_1\"] = 200\n",
    "cond2[\"Q_i\"] = 450\n",
    "cond2[\"Q_o\"] = 300\n",
    "cond2[\"Q_1\"] = 150"
   ]
  },
  {
   "cell_type": "code",
   "execution_count": 169,
   "metadata": {},
   "outputs": [
    {
     "data": {
      "text/plain": [
       "(0.29333333333333333, 8.900000000000002)"
      ]
     },
     "execution_count": 169,
     "metadata": {},
     "output_type": "execute_result"
    }
   ],
   "source": [
    "fit2.get_Loss(cond2)"
   ]
  },
  {
   "cell_type": "code",
   "execution_count": 170,
   "metadata": {},
   "outputs": [],
   "source": [
    "duct1.add_fitting(fit2, cond2)"
   ]
  },
  {
   "cell_type": "code",
   "execution_count": 171,
   "metadata": {},
   "outputs": [
    {
     "name": "stdout",
     "output_type": "stream",
     "text": [
      "Pérdida total (Pa): 0.435072\n"
     ]
    }
   ],
   "source": [
    "print(\"Pérdida total (Pa): {:2f}\".format(duct1.get_loss(length=1.22, output_type=0)))"
   ]
  },
  {
   "cell_type": "code",
   "execution_count": 172,
   "metadata": {},
   "outputs": [
    {
     "name": "stdout",
     "output_type": "stream",
     "text": [
      "Pérdida total (Pa): 7.696521\n"
     ]
    }
   ],
   "source": [
    "print(\"Pérdida total (Pa): {:2f}\".format(duct1.get_loss(length=1.22, output_type=1)))"
   ]
  },
  {
   "cell_type": "code",
   "execution_count": null,
   "metadata": {},
   "outputs": [],
   "source": []
  }
 ],
 "metadata": {
  "kernelspec": {
   "display_name": "Python 3",
   "language": "python",
   "name": "python3"
  },
  "language_info": {
   "codemirror_mode": {
    "name": "ipython",
    "version": 3
   },
   "file_extension": ".py",
   "mimetype": "text/x-python",
   "name": "python",
   "nbconvert_exporter": "python",
   "pygments_lexer": "ipython3",
   "version": "3.8.10"
  }
 },
 "nbformat": 4,
 "nbformat_minor": 4
}
