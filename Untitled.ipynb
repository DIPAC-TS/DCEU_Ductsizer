{
 "cells": [
  {
   "cell_type": "code",
   "execution_count": 9,
   "metadata": {},
   "outputs": [],
   "source": [
    "from Fitting import Fitting\n",
    "import json"
   ]
  },
  {
   "cell_type": "code",
   "execution_count": 10,
   "metadata": {},
   "outputs": [],
   "source": [
    "with open(\"ASHRAE_CR3-1.json\") as file:\n",
    "    myfit = json.load(file)"
   ]
  },
  {
   "cell_type": "code",
   "execution_count": 11,
   "metadata": {},
   "outputs": [
    {
     "data": {
      "text/plain": [
       "{'name': 'ASHRAE CR3-1',\n",
       " 'type': 'Elbow',\n",
       " 'system': 'Other',\n",
       " 'description': 'Smooth Radius, Without Vanes',\n",
       " 'rel_k': 'th',\n",
       " 'k': [0.0, 20.0, 30.0, 45.0, 60.0, 75.0, 90.0, 110.0, 130.0, 150.0, 180.0],\n",
       " 'rel_xo': 'H_i/W_i',\n",
       " 'x_o': [0.25, 0.5, 0.75, 1.0, 1.5, 2.0, 3.0, 4.0, 5.0, 6.0, 8.0],\n",
       " 'rel_yo': 'r/W_i',\n",
       " 'y_o': [0.5, 0.75, 1.0, 1.5, 2.0],\n",
       " 'data_k': [0.0, 0.31, 0.45, 0.6, 0.78, 0.9, 1.0, 1.13, 1.2, 1.28, 1.4],\n",
       " 'data_o': [[1.53, 1.38, 1.29, 1.18, 1.06, 1.0, 1.0, 1.06, 1.12, 1.16, 1.18],\n",
       "  [0.57, 0.52, 0.48, 0.44, 0.4, 0.39, 0.39, 0.4, 0.42, 0.43, 0.44],\n",
       "  [0.27, 0.25, 0.23, 0.21, 0.19, 0.18, 0.18, 0.19, 0.2, 0.21, 0.21],\n",
       "  [0.22, 0.2, 0.19, 0.17, 0.15, 0.14, 0.14, 0.15, 0.16, 0.17, 0.17],\n",
       "  [0.2, 0.18, 0.16, 0.15, 0.14, 0.13, 0.13, 0.14, 0.14, 0.15, 0.15]]}"
      ]
     },
     "execution_count": 11,
     "metadata": {},
     "output_type": "execute_result"
    }
   ],
   "source": [
    "myfit"
   ]
  },
  {
   "cell_type": "code",
   "execution_count": 12,
   "metadata": {},
   "outputs": [],
   "source": [
    "objFit = Fitting(myfit)"
   ]
  },
  {
   "cell_type": "code",
   "execution_count": 13,
   "metadata": {},
   "outputs": [
    {
     "data": {
      "text/plain": [
       "'ELBOW'"
      ]
     },
     "execution_count": 13,
     "metadata": {},
     "output_type": "execute_result"
    }
   ],
   "source": [
    "objFit.fittype"
   ]
  },
  {
   "cell_type": "code",
   "execution_count": 14,
   "metadata": {},
   "outputs": [],
   "source": [
    "mycondition={}\n",
    "mycondition[\"H_i\"] = 200\n",
    "mycondition[\"W_i\"] = 200\n",
    "mycondition[\"r\"] = 200\n",
    "mycondition[\"th\"] = 45"
   ]
  },
  {
   "cell_type": "code",
   "execution_count": 15,
   "metadata": {},
   "outputs": [
    {
     "name": "stdout",
     "output_type": "stream",
     "text": [
      "0.126\n"
     ]
    }
   ],
   "source": [
    "print(objFit.get_Loss(mycondition))"
   ]
  }
 ],
 "metadata": {
  "kernelspec": {
   "display_name": "Python 3",
   "language": "python",
   "name": "python3"
  },
  "language_info": {
   "codemirror_mode": {
    "name": "ipython",
    "version": 3
   },
   "file_extension": ".py",
   "mimetype": "text/x-python",
   "name": "python",
   "nbconvert_exporter": "python",
   "pygments_lexer": "ipython3",
   "version": "3.8.10"
  }
 },
 "nbformat": 4,
 "nbformat_minor": 4
}
