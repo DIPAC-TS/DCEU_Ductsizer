{
 "cells": [
  {
   "cell_type": "code",
   "execution_count": 2,
   "metadata": {},
   "outputs": [],
   "source": [
    "from Fitting import Fitting\n",
    "import json"
   ]
  },
  {
   "cell_type": "code",
   "execution_count": 135,
   "metadata": {},
   "outputs": [],
   "source": [
    "with open(\"ASHRAE_CR3-1.json\") as file:\n",
    "    elbow = json.load(file)"
   ]
  },
  {
   "cell_type": "code",
   "execution_count": 136,
   "metadata": {},
   "outputs": [],
   "source": [
    "fit1 = Fitting(elbow)"
   ]
  },
  {
   "cell_type": "code",
   "execution_count": 137,
   "metadata": {},
   "outputs": [
    {
     "data": {
      "text/plain": [
       "'ELBOW'"
      ]
     },
     "execution_count": 137,
     "metadata": {},
     "output_type": "execute_result"
    }
   ],
   "source": [
    "fit1.fittype"
   ]
  },
  {
   "cell_type": "code",
   "execution_count": 138,
   "metadata": {},
   "outputs": [],
   "source": [
    "mycondition={}\n",
    "mycondition[\"H_i\"] = 200\n",
    "mycondition[\"W_i\"] = 200\n",
    "mycondition[\"r\"] = 200\n",
    "mycondition[\"th\"] = 45"
   ]
  },
  {
   "cell_type": "code",
   "execution_count": 140,
   "metadata": {},
   "outputs": [
    {
     "name": "stdout",
     "output_type": "stream",
     "text": [
      "0.126\n"
     ]
    }
   ],
   "source": [
    "print(fit1.get_Loss(mycondition))"
   ]
  },
  {
   "cell_type": "code",
   "execution_count": 3,
   "metadata": {},
   "outputs": [],
   "source": [
    "from enum import Enum\n",
    "from enum import auto\n",
    "from Fitting import Fitting\n",
    "import math"
   ]
  },
  {
   "cell_type": "code",
   "execution_count": 5,
   "metadata": {},
   "outputs": [],
   "source": [
    "class Duct(object):\n",
    "    \n",
    "    class REF(Enum):\n",
    "        FLOW = auto()\n",
    "        SIZE = auto()\n",
    "        LOSS = auto()\n",
    "        VELOCITY = auto()\n",
    "    \n",
    "    FLOW = REF.FLOW\n",
    "    SIZE = REF.SIZE\n",
    "    LOSS = REF.LOSS\n",
    "    VELOCITY = REF.VELOCITY\n",
    "    \n",
    "    class DuctType(Enum):\n",
    "        RECTANGULAR = auto()\n",
    "        ROUND = auto()\n",
    "        OVAL = auto()\n",
    "    \n",
    "    RECT = DuctType.RECTANGULAR\n",
    "    ROUND = DuctType.ROUND\n",
    "    OVAL = DuctType.OVAL\n",
    "        \n",
    "    def __init__(self, dtype:DuctType=DuctType.ROUND,\n",
    "                 diam:float=300.,\n",
    "                 size:list=[300., 300.],\n",
    "                 length:float=1.22,\n",
    "                 flow:float=100.,\n",
    "                 e:float=0.09,\n",
    "                 nu:float=1.506e-5,\n",
    "                 rho:float=1.204):\n",
    "        self.__name = \"duct\"\n",
    "        self.__fittings = []\n",
    "        self.__dtype = dtype\n",
    "        try:\n",
    "            if (len(size) == 2):\n",
    "                self.__size = size\n",
    "            else:\n",
    "                self.__size = [300, 300]\n",
    "        except TypeError as e:\n",
    "            self.__size = [diam, 0.]  \n",
    "        self.__flow = flow\n",
    "        self.__roughness = e\n",
    "        self.__viscosity = nu\n",
    "        self.__density = rho\n",
    "        \n",
    "    @property\n",
    "    def name(self):\n",
    "        return self.__name\n",
    "    \n",
    "    @name.setter\n",
    "    def name(self, value):\n",
    "        self.__name = value\n",
    "    \n",
    "    def add_fitting(self, fitt:Fitting, cond:dict):\n",
    "        self.__fittings.append((fitt, cond))\n",
    "    \n",
    "    def remove_fitting(self, i:int):\n",
    "        del(self.__fittings[i])\n",
    "    \n",
    "    def clear_fittings(self, i:int):\n",
    "        self.__fittings = []\n",
    "    \n",
    "    def is_width_fixed(self):\n",
    "        return self.__is_fixed\n",
    "    \n",
    "    def fix_width(self, yn:bool = True):\n",
    "        self.__is_fixed = yn\n",
    "    \n",
    "    def __gwi(self) -> int:\n",
    "        if is_width_fixed():\n",
    "            return 1\n",
    "        else:\n",
    "            return 0\n",
    "    \n",
    "    @property\n",
    "    def dtype(self):\n",
    "        return self.__dtype\n",
    "    \n",
    "    @dtype.setter\n",
    "    def dtype(self, value):\n",
    "        try:\n",
    "            self.__dtype = value\n",
    "        except:\n",
    "            print(\"Bandera\")\n",
    "            self.__dtype = value\n",
    "    @property\n",
    "    def flow(self):\n",
    "        return self.__flow\n",
    "    \n",
    "    @flow.setter\n",
    "    def flow(self, flow:float, ref:REF):\n",
    "        if (flow < 0 or flow == self.__flow):\n",
    "            return\n",
    "        if (ref == LOSS):\n",
    "            refval = self.loss_rate\n",
    "            self.flow(flow, REF.SIZE)\n",
    "            e = 1.0\n",
    "            count = 0\n",
    "            rate = 100.\n",
    "            index = self.__gwi()\n",
    "            while (e > 0.0001 or count < 1000):\n",
    "                if (refval < self.loss_rate):\n",
    "                    self.__size[index] += rate\n",
    "                    if (refval > self.loss_rate):\n",
    "                        self.__size[index] -= rate\n",
    "                        rate /= 10.\n",
    "                elif (refval > self.loss_rate):\n",
    "                    self.__size[index] -= rate\n",
    "                    if (refval < self.loss_rate or self.__size[index] < 0.):\n",
    "                        a_size[index] += rate;\n",
    "                        rate /= 10.\n",
    "                count += 1\n",
    "                if count == 999:\n",
    "                    print(\"Stopped by counter\")\n",
    "                e = abs(self.loss_rate - refval)\n",
    "        elif (ref == VELOCITY):\n",
    "            refval = self.fluid_velocity\n",
    "            self.flow(flow, REF.SIZE)\n",
    "            e = 1.0\n",
    "            count = 0\n",
    "            rate = 100.\n",
    "            index = self.__gwi()\n",
    "            while (e > 0.0001 or count < 1000):\n",
    "                if (refval < self.fluid_velocity):\n",
    "                    self.__size[index] += rate\n",
    "                    if (refval > self.fluid_velocity()):\n",
    "                        self.__size[index] -= rate\n",
    "                        rate /= 10.\n",
    "                elif (refval > self.fluid_velocity):\n",
    "                    self.__size[index] -= rate\n",
    "                    if (refval < self.fluid_velocity() or self.__size[index] < 0.):\n",
    "                        a_size[index] += rate\n",
    "                        rate /= 10.\n",
    "                count += 1\n",
    "                if count == 999:\n",
    "                    print(\"Stopped by counter\")\n",
    "                e = abs(self.loss_rate - refval)\n",
    "        else: ## ref == SIZE or ref == FLOW:\n",
    "            self.__flow = flow\n",
    "    \n",
    "    @property\n",
    "    def size(self):\n",
    "        return self.__size\n",
    "    \n",
    "    @size.setter\n",
    "    def size(self, value):\n",
    "        if (len(value) == 2 and value[0] > 0. and value[1] > 0):\n",
    "            self.__size = value\n",
    "    \n",
    "    def set_size(self, size:list = [], diam:float = 300., dtype:DuctType = DuctType.ROUND, ref:REF = FLOW):\n",
    "        # The reference values are saved before modify the duct\n",
    "        ref_vel = self.get_fluid_vel()\n",
    "        ref_loss = self.get_loss_rate()\n",
    "        if (dtype != self.__dtype):\n",
    "            print(\"Type of duct changed\")\n",
    "            self.__dtype = dtype\n",
    "            if (dtype == ROUND):\n",
    "                self.__size = [diam, 0.]\n",
    "            else:\n",
    "                self.__size = size\n",
    "        else:\n",
    "            if (dtype == ROUND):\n",
    "                self.set_De(diam, ref=REF)\n",
    "                return\n",
    "        if (REF == VELOCITY):\n",
    "            self.__flow = self.get_fluid_area() * ref_vel / 1000.      \n",
    "        else:\n",
    "            pass\n",
    "            ## Pending to define\n",
    "    \n",
    "    @property\n",
    "    def roughness(self):\n",
    "        return self.__roughness\n",
    "    \n",
    "    @roughness.setter\n",
    "    def roughness(self, value:float):\n",
    "        if (value > 0.):\n",
    "            self.__roughness = value\n",
    "            \n",
    "    @property\n",
    "    def density(self):\n",
    "        return self.__density\n",
    "    \n",
    "    @density.setter\n",
    "    def density(self, value:float):\n",
    "        if (value > 0. and value < 5.0):\n",
    "            self.__density = value\n",
    "    \n",
    "    @property\n",
    "    def viscosity(self):\n",
    "        return self.__viscosity\n",
    "    \n",
    "    @viscosity.setter\n",
    "    def viscosity(self, value:float):\n",
    "        if (value > 0. and value < 1e-4):\n",
    "            self.__viscosity = value\n",
    "    \n",
    "    @staticmethod\n",
    "    def get_area(size:list, dtype:DuctType) -> float:\n",
    "        if (dtype == Duct.RECT):\n",
    "            return size[0] * size[1] / 1.0e6\n",
    "        elif (dtype == Duct.ROUND):\n",
    "            return math.pi * size[0] * size[0] / 4.0e6\n",
    "        else: ## self.__dtype == OVAL\n",
    "            return math.pi * size[1] * size[1] / 4.0e6\\\n",
    "              + size[1] * (size[0] - size[1]) / 1.0e6\n",
    "    \n",
    "    def get_fluid_area(self):\n",
    "        return math.pi * self.get_De(self.size, self.dtype) ** 2.0 / 4.0e6\n",
    "    \n",
    "    @staticmethod\n",
    "    def get_perim(size:list, dtype:DuctType) -> float:\n",
    "        if (dtype == Duct.RECT):\n",
    "            return 2.0 * (size[0] + size[1])\n",
    "        elif (dtype == Duct.ROUND):\n",
    "            return math.pi * size[0]\n",
    "        else: ## self.__dtype == OVAL\n",
    "            return math.pi * size[1] + 2 * (size[0] - size[1])\n",
    "    \n",
    "    @classmethod\n",
    "    def get_hid_diam(cls, size:list, dtype:DuctType) -> float:\n",
    "        if (dtype == Duct.ROUND):\n",
    "            return size[0]\n",
    "        else:\n",
    "            return 4.0e6 * cls.get_area(size, dtype) / cls.get_perim(size, dtype)\n",
    "        \n",
    "    @classmethod\n",
    "    def get_De(cls, size:list, dtype:DuctType):\n",
    "        if (dtype == Duct.RECT):\n",
    "            return 1.3 * math.pow(size[0] * size[1], 0.625)\\\n",
    "              / math.pow(size[0] + size[1], 0.25)\n",
    "        elif (dtype == Duct.ROUND):\n",
    "            return size[0]\n",
    "        else: ## dtype == Duct.OVAL\n",
    "            return 1.55 * math.pow(cls.get_area(size, dtype=dtype), 0.625) / math.pow(cls.get_perim(size, dtype=dtype), 0.25)\n",
    "    \n",
    "    def set_De(self, d:float, ref:REF):\n",
    "        if (d < 0.):\n",
    "            return\n",
    "        ref_vel = self.get_fluid_vel()\n",
    "        ref_loss = self.get_loss_rate()\n",
    "        adjust_size_by_De(self.size, diam=d, mode=\"h\")\n",
    "        if (ref == self.REF.VELOCITY):\n",
    "            self.__flow = ref_vel\n",
    "            ##Pending to define\n",
    "        else:\n",
    "            pass\n",
    "            ##Pending to define\n",
    "    \n",
    "    @staticmethod\n",
    "    def adjust_size_by_De(size:list, diam:float, side:str =\"h\", dtype:DuctType = RECT) -> list:\n",
    "        if dtype == ROUND:\n",
    "            return size[0]\n",
    "        if (side == \"w\"):\n",
    "            width = size[0]\n",
    "            return [width, size[1]]\n",
    "        else:           \n",
    "            height = size[1]\n",
    "            return [size[0], height]\n",
    "        \n",
    "    @classmethod    \n",
    "    def get_size_of_De(cls, initial_size:list, De:float, side:str=\"h\", dtype:DuctType = RECT) -> float:\n",
    "        acc = 1000.\n",
    "        counter = 0\n",
    "        while (acc > 0.1 and counter < 1000):\n",
    "            if (side == \"w\"):\n",
    "                width = initial_size[0]\n",
    "                dw = cls.__get_slope_De([width, initial_size[1]], side = \"w\", dtype=dtype)\n",
    "                acc = (cls.get_De([width, initial_size[1]], dtype=dtype) - De) / dw\n",
    "                width -= acc\n",
    "                new_size = [width, initial_size[1]]\n",
    "            else:\n",
    "                height = initial_size[1]\n",
    "                dh = cls.__get_slope_De([initial_size[0], height], side = \"h\", dtype=dtype)\n",
    "                acc = (cls.get_De([initial_size[0], height], dtype=dtype) - De) / dh\n",
    "                height -= acc\n",
    "                new_size = [initial_size[0], height]\n",
    "            counter += 1\n",
    "        if (counter == 1000):\n",
    "            print(\"Value was not found\")\n",
    "            return initial_size\n",
    "        else:\n",
    "            return new_size\n",
    "        \n",
    "    @classmethod\n",
    "    def __get_slope_De(cls, size:list, side:str=\"h\", dtype:DuctType = RECT) -> float:\n",
    "        delta = 0.00001\n",
    "        if (side == \"w\"):\n",
    "            return (cls.get_De([size[0] + delta, size[1]], dtype=dtype) - cls.get_De(size, dtype=dtype)) / delta\n",
    "        else:\n",
    "            return (cls.get_De([size[0], size[1] + delta], dtype=dtype) - cls.get_De(size, dtype=dtype)) / delta\n",
    "        \n",
    "    def get_velocity(self):\n",
    "        return self.__flow / self.get_area(self.size, self.dtype) / 1000.\n",
    "    \n",
    "    def get_fluid_vel(self):\n",
    "        return self.__flow / self.get_fluid_area() / 1000.\n",
    "    \n",
    "    def set_fluid_vel(self, vel:float, ref:REF):\n",
    "        if (v < 0.):\n",
    "            return\n",
    "        if (ref == self.DuctType.FLOW):\n",
    "            pass\n",
    "            ## Pending to define\n",
    "        elif (ref == self.DuctType.LOSS):\n",
    "            pass\n",
    "            ## Pending to define\n",
    "        elif (ref == self.DuctType.SIZE):\n",
    "            pass\n",
    "            ## Pending to define\n",
    "        else: ## ref == self.DuctType.VELOCITY\n",
    "            pass\n",
    "        \n",
    "    def get_vel_pressure(self):\n",
    "        return self.__density / 2. * self.get_fluid_vel() ** 2.\n",
    "    \n",
    "    def get_ffactor(self):\n",
    "        f = self.roughness / self.get_hid_diam(self.size, self.dtype)\n",
    "        e = 10.\n",
    "        count = 0\n",
    "        while (e > 0.0001 and count < 999):\n",
    "            f = self.FColebrook(f)\n",
    "            e = abs(f - self.FColebrook(f))\n",
    "            count += 1\n",
    "        if (count == 999):\n",
    "            print(\"Finished by count\")\n",
    "        return f\n",
    "\n",
    "    def set_loss_rate(self, loss:float, ref:REF):\n",
    "        if (loss < 0.0 or loss == self.get_loss()):\n",
    "            return\n",
    "        rate = 100.\n",
    "        e = 100.\n",
    "        count = 0\n",
    "        if (ref == self.REF.FLOW):\n",
    "            while (e > 0.00001 or count < 999):\n",
    "                if (loss < self.get_loss()):\n",
    "                    self.set_De(self.get_De() + rate)\n",
    "                    if (loss > self.get_loss()):\n",
    "                        self.set_De(self.get_De() - rate)\n",
    "                        rate /= 10.;\n",
    "                else:\n",
    "                    self.set_De(get_De() - rate)\n",
    "                    if (loss < self.get_loss() or get_De() - rate < 0.):\n",
    "                        rate /= 10.\n",
    "                count += 1\n",
    "                if (count == 999):\n",
    "                    print(\"Stopped by counter\")\n",
    "                e = abs(loss - self.get_loss())\n",
    "        elif (ref == self.REF.VELOCITY):\n",
    "            pass\n",
    "            # Pending to define\n",
    "        elif (rel == self.REF.SIZE):\n",
    "            while (e > 0.00001):\n",
    "                if (loss > get_loss()):\n",
    "                    self.set_flow(self.get_flow() + rate, self.REF.SIZE)\n",
    "                    if (loss < self.get_loss()):\n",
    "                        self.set_flow(self.get_flow() + rate, self.REF.SIZE)\n",
    "                elif (loss < self.get_loss()):\n",
    "                    self.set_flow(self.get_flow() - rate, self.REF.SIZE)\n",
    "                    if (loss > self.get_loss() or self.get_flow() - rate < 0.):\n",
    "                        self.set_flow(self.get_flow() + rate, self.REF.SIZE)\n",
    "        else:  # rel == self.REF.LOSS\n",
    "            return\n",
    "        \n",
    "    def get_loss_rate(self):\n",
    "        return 1000. * self.get_ffactor() / self.get_De(self.size, self.dtype) * self.get_vel_pressure()\n",
    "    \n",
    "    def get_loss(self, length, output_type:int = 0):\n",
    "        if (output_type > 2):\n",
    "            output_type = 0\n",
    "        Fitloss = 0.0\n",
    "        for i in range(len(self.__fittings)):\n",
    "            if (self.__fittings[i][0].fittype == \"UNCLASSIFIED\" or \\\n",
    "              self.__fittings[i][0].fittype == \"TEE\" or \\\n",
    "              self.__fittings[i][0].fittype == \"WYE\"):\n",
    "                Fitloss += self.__fittings[i][0].get_Loss(self.__fittings[i][1])[output_type]\n",
    "            else:\n",
    "                Fitloss += self.__fittings[i][0].get_Loss(self.__fittings[i][1])\n",
    "        return self.get_loss_rate() * length + Fitloss * self.get_vel_pressure()\n",
    "    \n",
    "    def get_Reynolds(self):\n",
    "        return self.get_hid_diam(self.size, self.dtype) * self.get_velocity() / 1000. / self.__viscosity\n",
    "    \n",
    "    def FColebrook(self, f:float):\n",
    "        return 1. / math.pow(-2.0 * math.log10(self.roughness / 3.7 / self.get_hid_diam(self.size, self.dtype)\\\n",
    "          + 2.51 / self.get_Reynolds() / math.sqrt(f)), 2.0)\n",
    "    \n",
    "    def __str__(self):\n",
    "        result = \"\"\n",
    "        result += \"Flow (L/s):        {:2f}\".format(self.flow) + '\\n'\n",
    "        if (self.dtype == self.DuctType.ROUND):\n",
    "            result += \"Diámetro (mm):     {:2f}\".format(self.size[0]) + '\\n'\n",
    "        else:\n",
    "            result += \"Ancho (mm):        {:2f}\".format(self.size[0]) + '\\n'\n",
    "            result += \"Alto (mm):         {:2f}\".format(self.size[1]) + '\\n'\n",
    "        result += \"Eq. Diam. (mm):    {:2f}\".format(self.get_De(self.size, self.dtype)) + '\\n'\n",
    "        result += \"Hid. Diam (mm):    {:2f}\".format(self.get_hid_diam(self.size, self.dtype)) + '\\n'\n",
    "        result += \"Flow Area (m2):    {:2f}\".format(self.get_fluid_area()) + '\\n'\n",
    "        result += \"Fluid Vel. (m/s):  {:2f}\".format(self.get_fluid_vel()) + '\\n'\n",
    "        result += \"Reynolds (-):      {:2f}\".format(self.get_Reynolds()) + '\\n'\n",
    "        result += \"Friction fac. (-): {:2f}\".format(self.get_ffactor()) + '\\n'\n",
    "        result += \"Vel. Press. (Pa):  {:2f}\".format(self.get_vel_pressure()) + '\\n'\n",
    "        result += \"Head loss (Pa/m):  {:2f}\".format(self.get_loss_rate())\n",
    "        return result"
   ]
  },
  {
   "cell_type": "code",
   "execution_count": 109,
   "metadata": {},
   "outputs": [
    {
     "data": {
      "text/plain": [
       "[300, 6182816.905377347]"
      ]
     },
     "execution_count": 109,
     "metadata": {},
     "output_type": "execute_result"
    }
   ],
   "source": [
    "Duct.get_size_of_De(initial_size=[300, 300], De=400., side=\"h\")"
   ]
  },
  {
   "cell_type": "code",
   "execution_count": 110,
   "metadata": {},
   "outputs": [],
   "source": [
    "duct1 = Duct(size=[300, 6182817], dtype=Duct.RECT)"
   ]
  },
  {
   "cell_type": "code",
   "execution_count": 111,
   "metadata": {},
   "outputs": [
    {
     "name": "stdout",
     "output_type": "stream",
     "text": [
      "Finished by count\n",
      "Finished by count\n",
      "Flow (L/s):        100.000000\n",
      "Ancho (mm):        300.000000\n",
      "Alto (mm):         6182817.000000\n",
      "Eq. Diam. (mm):    16174.608056\n",
      "Hid. Diam (mm):    599.970888\n",
      "Flow Area (m2):    205.474254\n",
      "Fluid Vel. (m/s):  0.000487\n",
      "Reynolds (-):      2.147818\n",
      "Friction fac. (-): 250.727896\n",
      "Vel. Press. (Pa):  0.000000\n",
      "Head loss (Pa/m):  0.000002\n"
     ]
    }
   ],
   "source": [
    "print(duct1)"
   ]
  },
  {
   "cell_type": "code",
   "execution_count": 160,
   "metadata": {},
   "outputs": [],
   "source": [
    "duct1.add_fitting(fit1, mycondition)"
   ]
  },
  {
   "cell_type": "code",
   "execution_count": 161,
   "metadata": {},
   "outputs": [
    {
     "name": "stdout",
     "output_type": "stream",
     "text": [
      "Pérdida total (Pa): 0.187586\n"
     ]
    }
   ],
   "source": [
    "print(\"Pérdida total (Pa): {:2f}\".format(duct1.get_loss(length=1.22, output_type=0)))"
   ]
  },
  {
   "cell_type": "code",
   "execution_count": 164,
   "metadata": {},
   "outputs": [],
   "source": [
    "with open(\"ASHRAE_SR5-11.json\") as file:\n",
    "    wye = json.load(file)"
   ]
  },
  {
   "cell_type": "code",
   "execution_count": 165,
   "metadata": {},
   "outputs": [],
   "source": [
    "fit2 = Fitting(wye)"
   ]
  },
  {
   "cell_type": "code",
   "execution_count": 166,
   "metadata": {},
   "outputs": [
    {
     "name": "stdout",
     "output_type": "stream",
     "text": [
      "ASHRAE SR5-11\n"
     ]
    }
   ],
   "source": [
    "print(fit2)"
   ]
  },
  {
   "cell_type": "code",
   "execution_count": 167,
   "metadata": {},
   "outputs": [
    {
     "name": "stdout",
     "output_type": "stream",
     "text": [
      "{'name': 'ASHRAE SR5-11', 'type': 'Tee', 'system': 'Suppy', 'description': 'Rectangular Main to Round Tap, Diverging', 'rel_xo': 'Q_o/Q_i', 'x_o': [0.1, 0.2, 0.3, 0.4, 0.5, 0.6, 0.7, 0.8, 0.9], 'rel_yo': 'A_o/A_i', 'y_o': [0.1, 0.2, 0.3, 0.4, 0.5, 0.6, 0.7, 0.8, 0.9], 'rel_x1': 'Q_1/Q_i', 'x_1': [0.1, 0.2, 0.3, 0.4, 0.5, 0.6, 0.7, 0.8, 0.9], 'rel_y1': 'A_1/A_i', 'y_1': [0.1, 0.2, 0.3, 0.4, 0.5, 0.6, 0.7, 0.8, 0.9], 'data_o': [[0.04, 0.01, 0.0, 0.0, 0.0, 0.0, 0.0, 0.0, 0.0], [0.98, 0.04, 0.01, 0.0, 0.0, 0.0, 0.0, 0.0, 0.0], [3.48, 0.31, 0.04, 0.01, 0.0, 0.0, 0.0, 0.0, 0.0], [7.55, 0.98, 0.18, 0.04, 0.02, 0.0, 0.0, 0.0, 0.0], [13.18, 2.03, 0.49, 0.13, 0.04, 0.0, 0.01, 0.0, 0.0], [20.38, 3.48, 0.98, 0.31, 0.1, 0.04, 0.02, 0.01, 0.0], [29.15, 5.32, 1.64, 0.6, 0.23, 0.09, 0.04, 0.02, 0.01], [39.48, 7.55, 2.47, 0.98, 0.42, 0.18, 0.08, 0.04, 0.02], [51.37, 10.17, 3.48, 1.46, 0.67, 0.31, 0.15, 0.07, 0.04]], 'data_1': [[1.58, 0.94, 0.83, 0.79, 0.77, 0.76, 0.76, 0.76, 0.75], [4.2, 1.58, 1.1, 0.94, 0.87, 0.83, 0.8, 0.79, 0.78], [8.63, 2.67, 1.58, 1.2, 1.03, 0.91, 0.88, 0.85, 0.83], [14.85, 4.2, 2.25, 1.58, 1.27, 1.1, 1.0, 0.94, 0.9], [22.87, 6.19, 3.13, 2.07, 1.58, 1.32, 1.16, 1.06, 0.99], [32.68, 8.63, 4.2, 2.67, 1.96, 1.58, 1.35, 1.2, 1.1], [44.3, 11.51, 5.48, 3.38, 2.41, 1.89, 1.58, 1.38, 1.24], [57.71, 14.85, 6.95, 4.2, 2.94, 2.25, 1.84, 1.58, 1.4], [72.92, 18.63, 8.63, 5.14, 3.53, 2.67, 2.14, 1.81, 1.58]]}\n"
     ]
    }
   ],
   "source": [
    "print(wye)"
   ]
  },
  {
   "cell_type": "code",
   "execution_count": 168,
   "metadata": {},
   "outputs": [],
   "source": [
    "cond2={}\n",
    "cond2[\"A_i\"] = 200\n",
    "cond2[\"A_o\"] = 200\n",
    "cond2[\"A_1\"] = 200\n",
    "cond2[\"Q_i\"] = 450\n",
    "cond2[\"Q_o\"] = 300\n",
    "cond2[\"Q_1\"] = 150"
   ]
  },
  {
   "cell_type": "code",
   "execution_count": 169,
   "metadata": {},
   "outputs": [
    {
     "data": {
      "text/plain": [
       "(0.29333333333333333, 8.900000000000002)"
      ]
     },
     "execution_count": 169,
     "metadata": {},
     "output_type": "execute_result"
    }
   ],
   "source": [
    "fit2.get_Loss(cond2)"
   ]
  },
  {
   "cell_type": "code",
   "execution_count": 170,
   "metadata": {},
   "outputs": [],
   "source": [
    "duct1.add_fitting(fit2, cond2)"
   ]
  },
  {
   "cell_type": "code",
   "execution_count": 171,
   "metadata": {},
   "outputs": [
    {
     "name": "stdout",
     "output_type": "stream",
     "text": [
      "Pérdida total (Pa): 0.435072\n"
     ]
    }
   ],
   "source": [
    "print(\"Pérdida total (Pa): {:2f}\".format(duct1.get_loss(length=1.22, output_type=0)))"
   ]
  },
  {
   "cell_type": "code",
   "execution_count": 172,
   "metadata": {},
   "outputs": [
    {
     "name": "stdout",
     "output_type": "stream",
     "text": [
      "Pérdida total (Pa): 7.696521\n"
     ]
    }
   ],
   "source": [
    "print(\"Pérdida total (Pa): {:2f}\".format(duct1.get_loss(length=1.22, output_type=1)))"
   ]
  },
  {
   "cell_type": "code",
   "execution_count": 7,
   "metadata": {},
   "outputs": [],
   "source": [
    "duct1 = Duct(size=[300, 400], flow=500, dtype=Duct.RECT)"
   ]
  },
  {
   "cell_type": "code",
   "execution_count": 8,
   "metadata": {},
   "outputs": [
    {
     "name": "stdout",
     "output_type": "stream",
     "text": [
      "Flow (L/s):        500.000000\n",
      "Ancho (mm):        300.000000\n",
      "Alto (mm):         400.000000\n",
      "Eq. Diam. (mm):    377.708815\n",
      "Hid. Diam (mm):    342.857143\n",
      "Flow Area (m2):    0.112048\n",
      "Fluid Vel. (m/s):  4.462373\n",
      "Reynolds (-):      94858.660596\n",
      "Friction fac. (-): 0.019538\n",
      "Vel. Press. (Pa):  11.987490\n",
      "Head loss (Pa/m):  0.620074\n"
     ]
    }
   ],
   "source": [
    "print(duct1)"
   ]
  },
  {
   "cell_type": "code",
   "execution_count": null,
   "metadata": {},
   "outputs": [],
   "source": [
    ".report()"
   ]
  }
 ],
 "metadata": {
  "kernelspec": {
   "display_name": "Python 3",
   "language": "python",
   "name": "python3"
  },
  "language_info": {
   "codemirror_mode": {
    "name": "ipython",
    "version": 3
   },
   "file_extension": ".py",
   "mimetype": "text/x-python",
   "name": "python",
   "nbconvert_exporter": "python",
   "pygments_lexer": "ipython3",
   "version": "3.8.10"
  }
 },
 "nbformat": 4,
 "nbformat_minor": 4
}
